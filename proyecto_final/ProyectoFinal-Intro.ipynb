{
 "cells": [
  {
   "cell_type": "markdown",
   "metadata": {},
   "source": [
    "<h1 align=\"center\">\n",
    "Aprendizaje Profundo sobre Métricas de Medición para la Predicción de la Calidad Visual en Imágenes Digitales\n",
    "</h1>"
   ]
  },
  {
   "cell_type": "markdown",
   "metadata": {},
   "source": [
    "## Introducción\n",
    "\n",
    "En gran cantidad de aplicaciones de Procesamiento Digital de Imágenes, la evaluación de la calidad de las imágenes digitales es un aspecto de suma importancia. El proceso de comunicación de información multimedia involucra la transmisión a través de canales ruidosos, así como el procesamiento y almacenamiento de datos. Dicho proceso demanda trabajos de compresión para disminuir el consumo de recursos computacionales, donde cada etapa de la comunicación puede introducir distorsiones y efectos no deseados que son perceptibles para los usuarios. Ejemplos de estos efectos están dados por los siguientes: _blockiness_, _blurriness_, _noisiness_ y _ringingness_, los cuales son introducidos por algoritmos de compresión con pérdidas. Las consecuencias de estos efectos se presentan a manera de ejemplo en la Figura 1.\n",
    "\n",
    "<figure class=\"image\">\n",
    "<img src=\"IMG/efects.png\"\n",
    "     alt=\"drawing\"\n",
    "     style=\"width:600px;\"\n",
    "     style=\"float: left; margin-right: 10px;\" />\n",
    "<center><figcaption><b>Figura 1.</b> Efectos de blockiness, blurriness, noisiness y ringingness en tres niveles de severidad diferentes [3]</figcaption></center>\n",
    "</figure>\n"
   ]
  },
  {
   "cell_type": "markdown",
   "metadata": {},
   "source": [
    "La identificación de las deficiencias en la información transmitida depende de la percepción humana sobre la calidad de los datos. Con el objetivo de reducir las deficiencias y proponer medios de mejora, es necesario cuantificar la calidad de la información y sus pérdidas mediante métricas cuyo uso está condicionado al Sistema Visual Humano (HVS). Sin embargo, para evaluar la calidad es importante tomar en cuenta el contexto de las aplicaciones en las que se trabaja. El uso de este tipo de métricas toman mayor relevancia en aplicaciones de compresión de imagen y video, así como en aplicaciones para el control de calidad de dispositivos de impresión y escaneo.\n",
    "\n",
    "Con el incremento en el uso de técnicas de compresión, se ha desarrollado una serie esfuerzos que proponen métricas en una búsqueda por coincidir con el Sistema Visual Humano. Actualmente no se cuenta con modelos matemáticos confiables relacionados con el HVS que coincidan de forma exacta con dicho sistema, por lo que se recurre a métodos de análisis cuantitativo para evaluar la correspondencia entre varias métricas de calidad visual. Un método de análisis utilizado para este objetivo, corresponde a tomar bases de datos de imágenes a las cuales se les ha calculado de forma experimental los Puntajes de Opinión Media (MOS - _Mean Opinion Scores_) sobre su calidad. La precisión y la fiabilidad del análisis cuantitativo dependen del tipo de pruebas experimentales y de la manera en que se construyen las bases de datos con imágenes.\n",
    "\n",
    "### Descripción del Proyecto\n",
    "\n",
    "En este trabajo se presenta una propuesta para el análisis de la calidad visual de imágenes digitales mediante el uso de técnicas de Aprendizaje Automático. El set de datos seleccionado para el proceso de aprendizaje, se denomina __TID2008__ y puede obtenerse del siguiente [enlace](http://www.ponomarenko.info/tid2008.htm). Este set fue construido para evaluar un conjunto de métricas sobre la calidad visual de 1700 imágenes de prueba, de las cuales 25 son de referencia (ver Figura 2). En el conjunto de imágenes se presentan 17 tipos de distorsiones por cada imagen de referencia y 4 niveles distintos por cada tipo de distorsión (ver Tabla 1)."
   ]
  },
  {
   "cell_type": "markdown",
   "metadata": {},
   "source": [
    "<figure class=\"image\">\n",
    "<img src=\"IMG/dataset_img.png\"\n",
    "     alt=\"drawing\"\n",
    "     style=\"width:550px;\"\n",
    "     style=\"float: left; margin-right: 10px;\" />\n",
    "<center><figcaption><b>Figura 2.</b> Imágenes de Referencia: 512x384, 24 bits por pixel [1]</figcaption></center>\n",
    "</figure>\n",
    "\n",
    "El set está compuesto por dos conjuntos: el banco de las 1700 imágenes y una base de datos numéricos que corresponden a los resultados de utilizar 20 métricas. Dentro de dichas métricas se incluye las puntuaciones MOS obtenidas a través de más de 800 experimentos, durante los cuales, observadores de Finlandia, Italia y Ucrania han emitido cerca de 256 000 juicios sobre la calidad visual percibida."
   ]
  },
  {
   "cell_type": "markdown",
   "metadata": {},
   "source": [
    "<figure class=\"image\">\n",
    "<center><figcaption><b>Tabla 1.</b> Tipos de distorsiones utilizadas en el set de datos [1]</figcaption></center>\n",
    "<img src=\"IMG/table_01.png\"\n",
    "     alt=\"drawing\"\n",
    "     style=\"width:650px;\"\n",
    "     style=\"float: left; margin-right: 10px;\" />\n",
    "</figure>"
   ]
  },
  {
   "cell_type": "markdown",
   "metadata": {},
   "source": [
    "### Objetivo\n",
    "\n",
    "Evaluar el comportamiento de los datos del set denominado __TID2008__ para obtener predicciones sobre la calidad visual en imágenes digitales, mediante el uso de técnicas de Aprendizaje Profundo.\n"
   ]
  },
  {
   "cell_type": "markdown",
   "metadata": {},
   "source": [
    "Debido al orden en que se presenta la información y su estructura, el problema planteado en este trabajo se clasifica como un problema de __Regresión__, por lo que se utilizaron enfoques de aprendizaje __supervisado__ en la exploración de las características que debe tener la red neuronal a implementar en la búsqueda de una tasa de aprendizaje alta."
   ]
  },
  {
   "cell_type": "markdown",
   "metadata": {},
   "source": [
    "## Enfoque Base para la Solución\n",
    "\n",
    "Como se mencionó anteriormente, se cuenta con un set de datos numéricos y con un conjunto de imágenes. El enfoque propuesto consiste en la utilización de un Perceptrón Multi-Capa (MLP) para el procesamiento de los datos numéricos y una Red Neuronal Convolucional (CNN) para el procesamiento y aprendizaje con las imágenes. Parte de la idea está dada por la obtención de resultados en ambos casos y combinarlos linealmente en caso de que sean considerados como aceptables, para posteriormente producir una salida de la red neuronal compuesta. Dicha salida representa la calidad de las imágenes que el sistema reciba como entrada. El esquema descrito se presenta gráficamente en la Figura 3. \n",
    "\n",
    "<figure class=\"image\">\n",
    "<img src=\"IMG/mlp-cnn.png\"\n",
    "     alt=\"drawing\"\n",
    "     style=\"width:250px;\"\n",
    "     style=\"float: left; margin-right: 10px;\" />\n",
    "<center><figcaption><b>Figura 3.</b> Esquema General de la Solución Propuesta [4]</figcaption></center>\n",
    "</figure>\n",
    "\n",
    "A continuación se presenta un resumen de los pasos seguidos como parte del proceso experimental, tanto para el MLP como para la CNN con sus respectivos enlaces a cuadernos donde se desarrollaron las implementaciones:\n",
    "\n",
    "* __MLP (Multi-Layer Perceptron):__\n",
    " * Se realiza una exploración de los datos mediante gráficas, diagramas de dispersión e histogramas.\n",
    " * Se aplica un pre-procesamiento de los datos: eliminación de outliers, normalizacion y eliminación de datos no numéricos (NaNs).\n",
    " * Se inicia con un red de perceptrones (MLP) de dos capas ocultas, a partir del cual se aplican modificaciones en su arquitectura buscando un buen ajuste con los datos.\n",
    " * Ante la presencia de un sobreajuste (_overfitting_), se agrega el método de detención temprana (_EarlyStopping_) durante el entrenamiento del modelo.\n",
    " * Se utiliza la biblioteca _Talos_ de Python para hacer una exploración de hiperparámetros y encontrar la configuración más óptima del modelo.\n",
    " \n",
    "La implementación del MLP se puede acceder mediante el siguiente enlace: [IMPLEMENTACIÓN MLP](ProyectoFinal-parte1.ipynb).\n",
    "\n",
    "* __CNN (Convolutional Neural Network):__\n",
    " * Se cargan las 1700 imágenes del set original y se aplica la normalización de los datos.\n",
    " * Se construye un mode con 3 capas convolucionales y 2 capas ocultas de perceptrones. Esta representa la configuración base a la cual se le aplican cambios en su arquitectura.\n",
    " * La red propuesta presentó sobreajuste, por lo que se optó por la generación de más datos. Para el aumento del set de datos se utilizó la biblioteca Keras, aplicando desplazamientos circulares sobre las 1700 imágenes del set, el cual se incrementó a 15300 imágenes. La implementación del programa para generar dicho aumento se puede acceder mediante el siguiente enlace: [AUMENTO DE DATOS](ProyectoFinal-parte0.ipynb). \n",
    " * Los datos aumentados no solucionaron el problema del sobreajuste, por lo que se procede a simplificar la red.\n",
    " * La nueva red también presenta sobreajuste, por lo que se analizan algunas posibles causas: \n",
    "   * Se requiere aún de más datos. \n",
    "   * Es necesario contar con métodos de validación diferentes como _Cross-Validation_ por ejemplo.\n",
    "   * Dedicar más esfuerzo para optimizar la configuración de los hiperparámetros de la CNN.\n",
    "\n",
    "La implementación de la CNN se puede acceder mediante el siguiente enlace: [IMPLEMENTACIÓN CNN](ProyectoFinal-parte2.ipynb)."
   ]
  },
  {
   "cell_type": "markdown",
   "metadata": {},
   "source": [
    "## Referencias\n",
    "\n",
    "__[1]__ Nikolay Ponomarenko, Vladimir Lukin, Alexander Zelen-sky, Karen Egiazarian, Marco Carli, and Federica Battisti. [TID2008 - A Database for Evaluation of FullReference\n",
    "Visual Quality Assessment Metrics](http://k504.khai.edu/attachments/article/89/mre2009tid.pdf). Advances of Modern Radio-electronics, 10(4):30–45, 2009.\n",
    "\n",
    "__[2]__ Nikolay Ponomarenko, Federica Battisti, Karen Egiazarian,Jaakko Astola, and Vladimir Lukin. [Metrics Performancecomparison for Color Image Database](http://www.comlab.uniroma3.it/Marco/Articoli%20Battisti/METRICS%20PERFORMANCE%20COMPARISON%20FOR%20COLOR%20IMAGE%20DATABASE.pdf). In Fourth international workshop on video processing and quality metricsfor consumer electronics, volume 27, page 6, 2009.\n",
    "\n",
    "__[3]__ Mylene Q Farias and Sanjit K Mitra. [Perceptual Contributions of Blocky, Blurry, Noisy, and Ringing Synthetic Artifacts to Overall Annoyance](https://pdfs.semanticscholar.org/52db/dd4a3d7215591bb7b417746ffb053bb6e9e5.pdf). Journal of Electronic  Imaging,21(4):043013, 2012\n",
    "\n",
    "__[4]__ Adrián Rosebrock. [Keras: Multiple Inputs and Mixed Data](https://www.pyimagesearch.com/2019/02/04/keras-multiple-inputs-and-mixed-data/). 2019, Web source.\n"
   ]
  },
  {
   "cell_type": "code",
   "execution_count": null,
   "metadata": {},
   "outputs": [],
   "source": []
  }
 ],
 "metadata": {
  "kernelspec": {
   "display_name": "Python 2",
   "language": "python",
   "name": "python2"
  },
  "language_info": {
   "codemirror_mode": {
    "name": "ipython",
    "version": 2
   },
   "file_extension": ".py",
   "mimetype": "text/x-python",
   "name": "python",
   "nbconvert_exporter": "python",
   "pygments_lexer": "ipython2",
   "version": "2.7.15"
  }
 },
 "nbformat": 4,
 "nbformat_minor": 2
}
