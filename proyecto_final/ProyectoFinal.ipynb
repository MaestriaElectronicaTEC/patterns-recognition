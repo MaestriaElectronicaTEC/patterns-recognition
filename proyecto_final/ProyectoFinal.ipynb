{
 "cells": [
  {
   "cell_type": "markdown",
   "metadata": {},
   "source": [
    "# Proyecto Final"
   ]
  },
  {
   "cell_type": "code",
   "execution_count": 24,
   "metadata": {},
   "outputs": [],
   "source": [
    "import numpy as np\n",
    "import pandas as pd\n",
    "import matplotlib.pyplot as plt"
   ]
  },
  {
   "cell_type": "code",
   "execution_count": 33,
   "metadata": {},
   "outputs": [
    {
     "data": {
      "application/javascript": [
       "IPython.OutputArea.prototype._should_scroll = function(lines) {\n",
       "    return false;\n",
       "}\n"
      ],
      "text/plain": [
       "<IPython.core.display.Javascript object>"
      ]
     },
     "metadata": {},
     "output_type": "display_data"
    }
   ],
   "source": [
    "%%javascript\n",
    "IPython.OutputArea.prototype._should_scroll = function(lines) {\n",
    "    return false;\n",
    "}"
   ]
  },
  {
   "cell_type": "markdown",
   "metadata": {},
   "source": [
    "## Conjunto de datos"
   ]
  },
  {
   "cell_type": "code",
   "execution_count": 121,
   "metadata": {},
   "outputs": [],
   "source": [
    "datasetFile = \"dataset.csv\"\n",
    "dataFrame = pd.read_csv(datasetFile, sep = ';',header = 0)\n",
    "\n",
    "# Remove the non-numeric columns\n",
    "dataFrame = dataFrame._get_numeric_data()\n",
    "dataFrame = dataFrame.dropna(axis='columns')\n",
    "\n",
    "# Drop unneeded features\n",
    "dataFrame = dataFrame.drop('MSSIM', 1)\n",
    "dataFrame = dataFrame.drop('VIF', 1)\n",
    "dataFrame = dataFrame.drop('VSNR', 1)\n",
    "dataFrame = dataFrame.drop('VIFP', 1)\n",
    "dataFrame = dataFrame.drop('NQM', 1)\n",
    "dataFrame = dataFrame.drop('XYZ', 1)\n",
    "dataFrame = dataFrame.drop('IFC', 1)\n",
    "dataFrame = dataFrame.drop('PSNR-HVS-M', 1)\n",
    "dataFrame = dataFrame.drop('PSNRY', 1)\n",
    "dataFrame = dataFrame.drop('PSNR', 1)\n",
    "dataFrame = dataFrame.drop('SNR', 1)\n",
    "dataFrame = dataFrame.drop('WSNR', 1)\n",
    "dataFrame = dataFrame.drop('DCTUNE', 1)\n",
    "dataFrame = dataFrame.drop('MOS', 1)\n",
    "\n",
    "# Get the numeric headers in a python list\n",
    "numericHeaders = list(dataFrame.columns.values)\n",
    "\n",
    "# Get a numpy array\n",
    "npData = dataFrame.values\n",
    "\n",
    "featuresDataFrame = dataFrame.loc[:,numericHeaders[0]:numericHeaders[len(numericHeaders) - 3]]\n",
    "targetDataFrame = dataFrame[\"MOS-STD\"]"
   ]
  },
  {
   "cell_type": "code",
   "execution_count": 122,
   "metadata": {},
   "outputs": [
    {
     "data": {
      "image/png": "[encoded data removed]",
      "text/plain": [
       "<Figure size 432x288 with 1 Axes>"
      ]
     },
     "metadata": {
      "needs_background": "light"
     },
     "output_type": "display_data"
    },
    {
     "data": {
      "image/png": "[encoded data removed]",
      "text/plain": [
       "<Figure size 432x288 with 1 Axes>"
      ]
     },
     "metadata": {
      "needs_background": "light"
     },
     "output_type": "display_data"
    },
    {
     "data": {
      "image/png": "[encoded data removed]",
      "text/plain": [
       "<Figure size 432x288 with 1 Axes>"
      ]
     },
     "metadata": {
      "needs_background": "light"
     },
     "output_type": "display_data"
    },
    {
     "data": {
      "image/png": "[encoded data removed]",
      "text/plain": [
       "<Figure size 432x288 with 1 Axes>"
      ]
     },
     "metadata": {
      "needs_background": "light"
     },
     "output_type": "display_data"
    }
   ],
   "source": [
    "index = 0\n",
    "for metric in numericHeaders:\n",
    "    y_pos = np.arange(len(npData[:, index]))\n",
    "    performance = list(npData[:, index])\n",
    "    plt.bar(y_pos, performance, align='center', alpha=0.5)\n",
    "    plt.title(metric)\n",
    "    plt.show()\n",
    "    index += 1"
   ]
  },
  {
   "cell_type": "markdown",
   "metadata": {},
   "source": [
    "## Dividir el conjunto de datos"
   ]
  },
  {
   "cell_type": "code",
   "execution_count": 150,
   "metadata": {},
   "outputs": [
    {
     "name": "stdout",
     "output_type": "stream",
     "text": [
      "1360 train samples\n",
      "340 test samples\n"
     ]
    }
   ],
   "source": [
    "# Split the data\n",
    "train = dataFrame.sample(frac = 0.8, random_state = 200)\n",
    "test = dataFrame.drop(train.index)\n",
    "\n",
    "# Set the feature and target datasets\n",
    "X_train = train.loc[:,numericHeaders[0]:numericHeaders[len(numericHeaders) - 2]]\n",
    "Y_train = train[\"MOS-STD\"]\n",
    "X_test = test.loc[:,numericHeaders[0]:numericHeaders[len(numericHeaders) - 2]]\n",
    "Y_test = test[\"MOS-STD\"]\n",
    "\n",
    "# print number of training, validation, and test images\n",
    "print(X_train.shape[0], 'train samples')\n",
    "print(X_test.shape[0], 'test samples')"
   ]
  },
  {
   "cell_type": "markdown",
   "metadata": {},
   "source": [
    "## Arquitectura de la red neuronal"
   ]
  },
  {
   "cell_type": "code",
   "execution_count": 151,
   "metadata": {},
   "outputs": [
    {
     "name": "stdout",
     "output_type": "stream",
     "text": [
      "_________________________________________________________________\n",
      "Layer (type)                 Output Shape              Param #   \n",
      "=================================================================\n",
      "dense_61 (Dense)             (None, 128)               512       \n",
      "_________________________________________________________________\n",
      "activation_61 (Activation)   (None, 128)               0         \n",
      "_________________________________________________________________\n",
      "dropout_19 (Dropout)         (None, 128)               0         \n",
      "_________________________________________________________________\n",
      "dense_62 (Dense)             (None, 64)                8256      \n",
      "_________________________________________________________________\n",
      "activation_62 (Activation)   (None, 64)                0         \n",
      "_________________________________________________________________\n",
      "dropout_20 (Dropout)         (None, 64)                0         \n",
      "_________________________________________________________________\n",
      "dense_63 (Dense)             (None, 1)                 65        \n",
      "_________________________________________________________________\n",
      "activation_63 (Activation)   (None, 1)                 0         \n",
      "=================================================================\n",
      "Total params: 8,833\n",
      "Trainable params: 8,833\n",
      "Non-trainable params: 0\n",
      "_________________________________________________________________\n"
     ]
    }
   ],
   "source": [
    "# Imports\n",
    "import numpy as np\n",
    "from keras.models import Sequential\n",
    "from keras.layers.core import Dense, Dropout, Activation\n",
    "from keras.optimizers import SGD\n",
    "from keras.utils import np_utils\n",
    "\n",
    "model = Sequential()\n",
    "\n",
    "model.add(Dense(128, input_dim=3))\n",
    "model.add(Activation('relu'))\n",
    "model.add(Dropout(.3))\n",
    "\n",
    "model.add(Dense(64))\n",
    "model.add(Activation('relu'))\n",
    "model.add(Dropout(.3))\n",
    "\n",
    "model.add(Dense(1))\n",
    "model.add(Activation('sigmoid'))\n",
    "\n",
    "    \n",
    "# Compiling the model\n",
    "model.compile(loss = 'mean_squared_error', optimizer='adam', metrics=['accuracy'])\n",
    "model.summary()"
   ]
  },
  {
   "cell_type": "markdown",
   "metadata": {},
   "source": [
    "## Entrenamiento del modelo"
   ]
  },
  {
   "cell_type": "code",
   "execution_count": null,
   "metadata": {},
   "outputs": [],
   "source": [
    "# Training the model\n",
    "model.fit(X_train, Y_train, epochs=200, batch_size=100, validation_split=0.25, verbose=0)"
   ]
  },
  {
   "cell_type": "markdown",
   "metadata": {},
   "source": [
    "## Verificación del modelo"
   ]
  },
  {
   "cell_type": "code",
   "execution_count": 149,
   "metadata": {},
   "outputs": [
    {
     "name": "stdout",
     "output_type": "stream",
     "text": [
      "1020/1020 [==============================] - 0s 74us/step\n",
      "\n",
      " Training Accuracy: 0.00196078431372549\n",
      "680/680 [==============================] - 0s 95us/step\n",
      "\n",
      " Testing Accuracy: 0.0029411764705882353\n"
     ]
    }
   ],
   "source": [
    "# Evaluating the model on the training and testing set\n",
    "score = model.evaluate(X_train, Y_train)\n",
    "print(\"\\n Training Accuracy:\", score[1])\n",
    "score = model.evaluate(X_test, Y_test)\n",
    "print(\"\\n Testing Accuracy:\", score[1])"
   ]
  },
  {
   "cell_type": "code",
   "execution_count": null,
   "metadata": {},
   "outputs": [],
   "source": []
  }
 ],
 "metadata": {
  "kernelspec": {
   "display_name": "Python 3",
   "language": "python",
   "name": "python3"
  },
  "language_info": {
   "codemirror_mode": {
    "name": "ipython",
    "version": 3
   },
   "file_extension": ".py",
   "mimetype": "text/x-python",
   "name": "python",
   "nbconvert_exporter": "python",
   "pygments_lexer": "ipython3",
   "version": "3.7.1"
  }
 },
 "nbformat": 4,
 "nbformat_minor": 2
}
